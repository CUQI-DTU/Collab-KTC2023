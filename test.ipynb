{
 "cells": [
  {
   "cell_type": "code",
   "execution_count": 16,
   "metadata": {},
   "outputs": [
    {
     "ename": "ModuleNotFoundError",
     "evalue": "No module named 'matplotlib'",
     "output_type": "error",
     "traceback": [
      "\u001b[0;31m---------------------------------------------------------------------------\u001b[0m",
      "\u001b[0;31mModuleNotFoundError\u001b[0m                       Traceback (most recent call last)",
      "\u001b[1;32m/home/jakob/Documents/OneDriveDTU/9-semester/Kuopio Tomography Challenge 2023/Collab-KTC2023/test.ipynb Cell 1\u001b[0m line \u001b[0;36m1\n\u001b[0;32m----> <a href='vscode-notebook-cell:/home/jakob/Documents/OneDriveDTU/9-semester/Kuopio%20Tomography%20Challenge%202023/Collab-KTC2023/test.ipynb#W0sZmlsZQ%3D%3D?line=0'>1</a>\u001b[0m \u001b[39mimport\u001b[39;00m \u001b[39mktc\u001b[39;00m\u001b[39m.\u001b[39;00m\u001b[39mmodel\u001b[39;00m\n\u001b[1;32m      <a href='vscode-notebook-cell:/home/jakob/Documents/OneDriveDTU/9-semester/Kuopio%20Tomography%20Challenge%202023/Collab-KTC2023/test.ipynb#W0sZmlsZQ%3D%3D?line=1'>2</a>\u001b[0m \u001b[39mimport\u001b[39;00m \u001b[39mktc\u001b[39;00m\u001b[39m.\u001b[39;00m\u001b[39mreconstruction\u001b[39;00m\n\u001b[1;32m      <a href='vscode-notebook-cell:/home/jakob/Documents/OneDriveDTU/9-semester/Kuopio%20Tomography%20Challenge%202023/Collab-KTC2023/test.ipynb#W0sZmlsZQ%3D%3D?line=2'>3</a>\u001b[0m \u001b[39m# from ktc.model import *\u001b[39;00m\n\u001b[1;32m      <a href='vscode-notebook-cell:/home/jakob/Documents/OneDriveDTU/9-semester/Kuopio%20Tomography%20Challenge%202023/Collab-KTC2023/test.ipynb#W0sZmlsZQ%3D%3D?line=3'>4</a>\u001b[0m \u001b[39m# from ktc.reconstruction import *\u001b[39;00m\n",
      "File \u001b[0;32m~/Documents/OneDriveDTU/9-semester/Kuopio Tomography Challenge 2023/Collab-KTC2023/ktc/model.py:5\u001b[0m\n\u001b[1;32m      2\u001b[0m \u001b[39mimport\u001b[39;00m \u001b[39mabc\u001b[39;00m\n\u001b[1;32m      3\u001b[0m \u001b[39m# import sys\u001b[39;00m\n\u001b[1;32m      4\u001b[0m \u001b[39m# sys.path.append(\"..\")\u001b[39;00m\n\u001b[0;32m----> 5\u001b[0m \u001b[39mfrom\u001b[39;00m \u001b[39mktc\u001b[39;00m\u001b[39m.\u001b[39;00m\u001b[39mutils\u001b[39;00m \u001b[39mimport\u001b[39;00m EITFenics\n\u001b[1;32m      7\u001b[0m \u001b[39m#%%\u001b[39;00m\n\u001b[1;32m      8\u001b[0m \u001b[39mimport\u001b[39;00m \u001b[39mnumpy\u001b[39;00m \u001b[39mas\u001b[39;00m \u001b[39mnp\u001b[39;00m\n",
      "File \u001b[0;32m~/Documents/OneDriveDTU/9-semester/Kuopio Tomography Challenge 2023/Collab-KTC2023/ktc/utils.py:10\u001b[0m\n\u001b[1;32m      8\u001b[0m \u001b[39mimport\u001b[39;00m \u001b[39mnumpy\u001b[39;00m \u001b[39mas\u001b[39;00m \u001b[39mnp\u001b[39;00m\n\u001b[1;32m      9\u001b[0m \u001b[39mfrom\u001b[39;00m \u001b[39mscipy\u001b[39;00m\u001b[39m.\u001b[39;00m\u001b[39minterpolate\u001b[39;00m \u001b[39mimport\u001b[39;00m RegularGridInterpolator\n\u001b[0;32m---> 10\u001b[0m \u001b[39mfrom\u001b[39;00m \u001b[39mmatplotlib\u001b[39;00m \u001b[39mimport\u001b[39;00m pyplot \u001b[39mas\u001b[39;00m plt\n\u001b[1;32m     11\u001b[0m \u001b[39mfrom\u001b[39;00m \u001b[39mdolfin\u001b[39;00m \u001b[39mimport\u001b[39;00m \u001b[39m*\u001b[39m\n\u001b[1;32m     12\u001b[0m \u001b[39mfrom\u001b[39;00m \u001b[39mmshr\u001b[39;00m \u001b[39mimport\u001b[39;00m \u001b[39m*\u001b[39m\n",
      "\u001b[0;31mModuleNotFoundError\u001b[0m: No module named 'matplotlib'"
     ]
    }
   ],
   "source": [
    "import ktc.model\n",
    "import ktc.reconstruction\n",
    "# from ktc.model import *\n",
    "# from ktc.reconstruction import *\n",
    "fenics_model = ktc.model.FenicsFowardModel()\n"
   ]
  },
  {
   "cell_type": "code",
   "execution_count": 7,
   "metadata": {},
   "outputs": [
    {
     "data": {
      "text/plain": [
       "'/home/jakob/Documents/OneDriveDTU/9-semester/Kuopio Tomography Challenge 2023/Collab-KTC2023'"
      ]
     },
     "execution_count": 7,
     "metadata": {},
     "output_type": "execute_result"
    }
   ],
   "source": [
    "pwd"
   ]
  }
 ],
 "metadata": {
  "kernelspec": {
   "display_name": "ktc",
   "language": "python",
   "name": "python3"
  },
  "language_info": {
   "codemirror_mode": {
    "name": "ipython",
    "version": 3
   },
   "file_extension": ".py",
   "mimetype": "text/x-python",
   "name": "python",
   "nbconvert_exporter": "python",
   "pygments_lexer": "ipython3",
   "version": "3.12.0"
  },
  "orig_nbformat": 4
 },
 "nbformat": 4,
 "nbformat_minor": 2
}

{
 "cells": [
  {
   "cell_type": "code",
   "execution_count": 5,
   "metadata": {},
   "outputs": [],
   "source": [
    "from ktc.model import *\n",
    "# from ktc.data_reader import *\n",
    "import matplotlib.pyplot as plt"
   ]
  },
  {
   "cell_type": "code",
   "execution_count": 6,
   "metadata": {},
   "outputs": [],
   "source": [
    "# fileName = \"data/TrainingData/data1.mat\"\n",
    "# matdict_true = sp.io.loadmat(\"data/GroundTruths/true1.mat\")\n",
    "# # matdict_ref = sp.io.loadmat(\"data/TrainingData/ref.mat\")\n",
    "# matdict = sp.io.loadmat(fileName)\n",
    "# # data = DataReader(matdict)\n",
    "# # ref = DataReader(matdict_ref)\n",
    "# true = matdict_true[\"truth\"]"
   ]
  },
  {
   "cell_type": "code",
   "execution_count": 8,
   "metadata": {},
   "outputs": [
    {
     "name": "stderr",
     "output_type": "stream",
     "text": [
      "/home/jakob/Documents/OneDriveDTU/9-semester/Kuopio Tomography Challenge 2023/Collab-KTC2023/ktc/model.py:37: RuntimeWarning: invalid value encountered in arccos\n",
      "  rho = np.arccos(np.dot(x, [u, v]) / r)\n"
     ]
    }
   ],
   "source": [
    "background_conductivity = 0.8\n",
    "electrode_count = 32\n",
    "impedance = np.full(electrode_count, 1e-6)\n",
    "radius = 1\n",
    "\n",
    "mesh, subdomains = create_disk_mesh(radius, electrode_count, polygons=200, cell_size=20)\n",
    "forward_model = FenicsForwardModel(mesh, subdomains, electrode_count, impedance, background_conductivity)"
   ]
  },
  {
   "cell_type": "code",
   "execution_count": 10,
   "metadata": {},
   "outputs": [
    {
     "name": "stdout",
     "output_type": "stream",
     "text": [
      "No Jacobian form specified for nonlinear variational problem.\n",
      "Differentiating residual form F to obtain Jacobian J = F'.\n"
     ]
    },
    {
     "ename": "RuntimeError",
     "evalue": "\n\n*** -------------------------------------------------------------------------\n*** DOLFIN encountered an error. If you are not able to resolve this issue\n*** using the information listed below, you can ask for help at\n***\n***     fenics-support@googlegroups.com\n***\n*** Remember to include the error message listed below and, if possible,\n*** include a *minimal* running example to reproduce the error.\n***\n*** -------------------------------------------------------------------------\n*** Error:   Unable to define nonlinear variational problem F(u; v) = 0 for all v.\n*** Reason:  Expecting the residual F to be a linear form (not rank 2).\n*** Where:   This error was encountered inside NonlinearVariationalProblem.cpp.\n*** Process: 0\n*** \n*** DOLFIN version: 2019.1.0\n*** Git changeset:  2e001bd1aae8e14d758264f77382245e6eed04b0\n*** -------------------------------------------------------------------------\n",
     "output_type": "error",
     "traceback": [
      "\u001b[0;31m---------------------------------------------------------------------------\u001b[0m",
      "\u001b[0;31mRuntimeError\u001b[0m                              Traceback (most recent call last)",
      "\u001b[1;32m/home/jakob/Documents/OneDriveDTU/9-semester/Kuopio Tomography Challenge 2023/Collab-KTC2023/forward.ipynb Cell 4\u001b[0m line \u001b[0;36m2\n\u001b[1;32m      <a href='vscode-notebook-cell:/home/jakob/Documents/OneDriveDTU/9-semester/Kuopio%20Tomography%20Challenge%202023/Collab-KTC2023/forward.ipynb#W4sZmlsZQ%3D%3D?line=0'>1</a>\u001b[0m current_injections \u001b[39m=\u001b[39m sp\u001b[39m.\u001b[39mio\u001b[39m.\u001b[39mloadmat(\u001b[39m\"\u001b[39m\u001b[39mdata/data1.mat\u001b[39m\u001b[39m\"\u001b[39m)[\u001b[39m\"\u001b[39m\u001b[39mInj\u001b[39m\u001b[39m\"\u001b[39m]\u001b[39m.\u001b[39mT\n\u001b[0;32m----> <a href='vscode-notebook-cell:/home/jakob/Documents/OneDriveDTU/9-semester/Kuopio%20Tomography%20Challenge%202023/Collab-KTC2023/forward.ipynb#W4sZmlsZQ%3D%3D?line=1'>2</a>\u001b[0m u, U1 \u001b[39m=\u001b[39m forward_model\u001b[39m.\u001b[39;49msolve_forward(current_injections)\n\u001b[1;32m      <a href='vscode-notebook-cell:/home/jakob/Documents/OneDriveDTU/9-semester/Kuopio%20Tomography%20Challenge%202023/Collab-KTC2023/forward.ipynb#W4sZmlsZQ%3D%3D?line=2'>3</a>\u001b[0m \u001b[39m# u, U2 = forward_model.solve_forward(ref.current_injections)\u001b[39;00m\n\u001b[1;32m      <a href='vscode-notebook-cell:/home/jakob/Documents/OneDriveDTU/9-semester/Kuopio%20Tomography%20Challenge%202023/Collab-KTC2023/forward.ipynb#W4sZmlsZQ%3D%3D?line=3'>4</a>\u001b[0m \u001b[39m# plt.figure()\u001b[39;00m\n\u001b[1;32m      <a href='vscode-notebook-cell:/home/jakob/Documents/OneDriveDTU/9-semester/Kuopio%20Tomography%20Challenge%202023/Collab-KTC2023/forward.ipynb#W4sZmlsZQ%3D%3D?line=4'>5</a>\u001b[0m \u001b[39m# plt.plot(U1)\u001b[39;00m\n\u001b[1;32m      <a href='vscode-notebook-cell:/home/jakob/Documents/OneDriveDTU/9-semester/Kuopio%20Tomography%20Challenge%202023/Collab-KTC2023/forward.ipynb#W4sZmlsZQ%3D%3D?line=5'>6</a>\u001b[0m \u001b[39m# plt.plot(U2)\u001b[39;00m\n\u001b[1;32m      <a href='vscode-notebook-cell:/home/jakob/Documents/OneDriveDTU/9-semester/Kuopio%20Tomography%20Challenge%202023/Collab-KTC2023/forward.ipynb#W4sZmlsZQ%3D%3D?line=6'>7</a>\u001b[0m \u001b[39m# plt.plot(true.voltages)\u001b[39;00m\n",
      "File \u001b[0;32m~/Documents/OneDriveDTU/9-semester/Kuopio Tomography Challenge 2023/Collab-KTC2023/ktc/model.py:73\u001b[0m, in \u001b[0;36mFenicsForwardModel.solve_forward\u001b[0;34m(self, current_injection)\u001b[0m\n\u001b[1;32m     70\u001b[0m     area \u001b[39m=\u001b[39m assemble(\u001b[39m1\u001b[39m\u001b[39m*\u001b[39mds(i\u001b[39m+\u001b[39m\u001b[39m1\u001b[39m))\n\u001b[1;32m     71\u001b[0m     L \u001b[39m+\u001b[39m\u001b[39m=\u001b[39m (current_injection[i] \u001b[39m*\u001b[39m V[i] \u001b[39m/\u001b[39m area) \u001b[39m*\u001b[39m ds(i\u001b[39m+\u001b[39m\u001b[39m1\u001b[39m)\n\u001b[0;32m---> 73\u001b[0m \u001b[39mreturn\u001b[39;00m \u001b[39mself\u001b[39;49m\u001b[39m.\u001b[39;49m_solve(L)\n",
      "File \u001b[0;32m~/Documents/OneDriveDTU/9-semester/Kuopio Tomography Challenge 2023/Collab-KTC2023/ktc/model.py:137\u001b[0m, in \u001b[0;36mFenicsForwardModel._solve\u001b[0;34m(self, rhs)\u001b[0m\n\u001b[1;32m    135\u001b[0m \u001b[39mdef\u001b[39;00m \u001b[39m_solve\u001b[39m(\u001b[39mself\u001b[39m, rhs):\n\u001b[1;32m    136\u001b[0m     w \u001b[39m=\u001b[39m Function(\u001b[39mself\u001b[39m\u001b[39m.\u001b[39msolution_space)\n\u001b[0;32m--> 137\u001b[0m     solve(\u001b[39mself\u001b[39;49m\u001b[39m.\u001b[39;49ma \u001b[39m==\u001b[39;49m rhs, w)\n\u001b[1;32m    139\u001b[0m     x \u001b[39m=\u001b[39m w\u001b[39m.\u001b[39mvector()\u001b[39m.\u001b[39mget_local()\n\u001b[1;32m    140\u001b[0m     U \u001b[39m=\u001b[39m x[\u001b[39m-\u001b[39m\u001b[39mself\u001b[39m\u001b[39m.\u001b[39melectrode_count:]\n",
      "File \u001b[0;32m~/miniforge3/envs/ktc4/lib/python3.11/site-packages/dolfin/fem/solving.py:220\u001b[0m, in \u001b[0;36msolve\u001b[0;34m(*args, **kwargs)\u001b[0m\n\u001b[1;32m    217\u001b[0m \u001b[39m# Call variational problem solver if we get an equation (but not a\u001b[39;00m\n\u001b[1;32m    218\u001b[0m \u001b[39m# tolerance)\u001b[39;00m\n\u001b[1;32m    219\u001b[0m \u001b[39melif\u001b[39;00m \u001b[39misinstance\u001b[39m(args[\u001b[39m0\u001b[39m], ufl\u001b[39m.\u001b[39mclasses\u001b[39m.\u001b[39mEquation):\n\u001b[0;32m--> 220\u001b[0m     _solve_varproblem(\u001b[39m*\u001b[39;49margs, \u001b[39m*\u001b[39;49m\u001b[39m*\u001b[39;49mkwargs)\n\u001b[1;32m    222\u001b[0m \u001b[39m# Default case, just call the wrapped C++ solve function\u001b[39;00m\n\u001b[1;32m    223\u001b[0m \u001b[39melse\u001b[39;00m:\n\u001b[1;32m    224\u001b[0m     \u001b[39mif\u001b[39;00m kwargs:\n",
      "File \u001b[0;32m~/miniforge3/envs/ktc4/lib/python3.11/site-packages/dolfin/fem/solving.py:260\u001b[0m, in \u001b[0;36m_solve_varproblem\u001b[0;34m(*args, **kwargs)\u001b[0m\n\u001b[1;32m    257\u001b[0m     J \u001b[39m=\u001b[39m formmanipulations\u001b[39m.\u001b[39mderivative(F, u)\n\u001b[1;32m    259\u001b[0m \u001b[39m# Create problem\u001b[39;00m\n\u001b[0;32m--> 260\u001b[0m problem \u001b[39m=\u001b[39m NonlinearVariationalProblem(eq\u001b[39m.\u001b[39;49mlhs, u, bcs, J,\n\u001b[1;32m    261\u001b[0m                                       form_compiler_parameters\u001b[39m=\u001b[39;49mform_compiler_parameters)\n\u001b[1;32m    263\u001b[0m \u001b[39m# Create solver and call solve\u001b[39;00m\n\u001b[1;32m    264\u001b[0m solver \u001b[39m=\u001b[39m NonlinearVariationalSolver(problem)\n",
      "File \u001b[0;32m~/miniforge3/envs/ktc4/lib/python3.11/site-packages/dolfin/fem/problem.py:95\u001b[0m, in \u001b[0;36mNonlinearVariationalProblem.__init__\u001b[0;34m(self, F, u, bcs, J, form_compiler_parameters)\u001b[0m\n\u001b[1;32m     92\u001b[0m     J \u001b[39m=\u001b[39m Form(J, form_compiler_parameters\u001b[39m=\u001b[39mform_compiler_parameters)\n\u001b[1;32m     94\u001b[0m \u001b[39m# Initialize C++ base class\u001b[39;00m\n\u001b[0;32m---> 95\u001b[0m cpp\u001b[39m.\u001b[39;49mfem\u001b[39m.\u001b[39;49mNonlinearVariationalProblem\u001b[39m.\u001b[39;49m\u001b[39m__init__\u001b[39;49m(\u001b[39mself\u001b[39;49m, F, u\u001b[39m.\u001b[39;49m_cpp_object, bcs, J)\n",
      "\u001b[0;31mRuntimeError\u001b[0m: \n\n*** -------------------------------------------------------------------------\n*** DOLFIN encountered an error. If you are not able to resolve this issue\n*** using the information listed below, you can ask for help at\n***\n***     fenics-support@googlegroups.com\n***\n*** Remember to include the error message listed below and, if possible,\n*** include a *minimal* running example to reproduce the error.\n***\n*** -------------------------------------------------------------------------\n*** Error:   Unable to define nonlinear variational problem F(u; v) = 0 for all v.\n*** Reason:  Expecting the residual F to be a linear form (not rank 2).\n*** Where:   This error was encountered inside NonlinearVariationalProblem.cpp.\n*** Process: 0\n*** \n*** DOLFIN version: 2019.1.0\n*** Git changeset:  2e001bd1aae8e14d758264f77382245e6eed04b0\n*** -------------------------------------------------------------------------\n"
     ]
    }
   ],
   "source": [
    "current_injections = sp.io.loadmat(\"data/data1.mat\")[\"Inj\"].T\n",
    "u, U1 = forward_model.solve_forward(current_injections)\n",
    "# u, U2 = forward_model.solve_forward(ref.current_injections)\n",
    "# plt.figure()\n",
    "# plt.plot(U1)\n",
    "# plt.plot(U2)\n",
    "# plt.plot(true.voltages)"
   ]
  }
 ],
 "metadata": {
  "kernelspec": {
   "display_name": "ktc3",
   "language": "python",
   "name": "python3"
  },
  "language_info": {
   "codemirror_mode": {
    "name": "ipython",
    "version": 3
   },
   "file_extension": ".py",
   "mimetype": "text/x-python",
   "name": "python",
   "nbconvert_exporter": "python",
   "pygments_lexer": "ipython3",
   "version": "3.11.6"
  }
 },
 "nbformat": 4,
 "nbformat_minor": 2
}

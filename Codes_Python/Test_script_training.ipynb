{
 "cells": [
  {
   "cell_type": "code",
   "execution_count": 1,
   "metadata": {},
   "outputs": [
    {
     "name": "stderr",
     "output_type": "stream",
     "text": [
      "c:\\Users\\marti\\AppData\\Local\\Programs\\Python\\Python310\\lib\\site-packages\\scipy\\sparse\\_index.py:100: SparseEfficiencyWarning: Changing the sparsity structure of a csr_matrix is expensive. lil_matrix is more efficient.\n",
      "  self._set_intXint(row, col, x.flat[0])\n"
     ]
    },
    {
     "name": "stdout",
     "output_type": "stream",
     "text": [
      "Output/1.mat\n",
      "Output/2.mat\n",
      "Output/3.mat\n",
      "Output/4.mat\n",
      "Score from target 1 = 0.7446169892565353\n",
      "Score from target 2 = 0.5644616504193463\n",
      "Score from target 3 = 0.7747086555628134\n",
      "Score from target 4 = 0.6145210309818654\n",
      "Final score: 2.6983083262205603 / 4.00\n"
     ]
    }
   ],
   "source": [
    "import scipy as sp\n",
    "import main\n",
    "import KTCScoring\n",
    "import matplotlib.pyplot as plt\n",
    "# import warnings\n",
    "\n",
    "\n",
    "main.main('TrainingData', 'Output', 3)\n",
    "\n",
    "score = 0\n",
    "for ii in range(4):\n",
    "\n",
    "    reco = sp.io.loadmat('Output/' + str(ii+1) + '.mat')\n",
    "    reco = reco[\"reconstruction\"]\n",
    "    truth = sp.io.loadmat('GroundTruths/true' + str(ii+1) + '.mat')\n",
    "    truth = truth[\"truth\"]\n",
    "\n",
    "    s = KTCScoring.scoringFunction(truth, reco)\n",
    "    print('Score from target ' + str(ii+1) + ' = ' + str(s))\n",
    "    score = score + s\n",
    "\n",
    "print('Final score: ' + str(score) + ' / 4.00')\n"
   ]
  }
 ],
 "metadata": {
  "kernelspec": {
   "display_name": "Python 3",
   "language": "python",
   "name": "python3"
  },
  "language_info": {
   "codemirror_mode": {
    "name": "ipython",
    "version": 3
   },
   "file_extension": ".py",
   "mimetype": "text/x-python",
   "name": "python",
   "nbconvert_exporter": "python",
   "pygments_lexer": "ipython3",
   "version": "3.10.6"
  },
  "orig_nbformat": 4
 },
 "nbformat": 4,
 "nbformat_minor": 2
}
